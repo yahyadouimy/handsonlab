{
 "cells": [
  {
   "cell_type": "markdown",
   "id": "a39dbb21-aee6-4a60-a95c-dfc990f7a3f5",
   "metadata": {},
   "source": [
    "#Data Science Tools and Ecosystem"
   ]
  },
  {
   "cell_type": "markdown",
   "id": "4b9dce5a-e01c-4ce4-b834-f2f214732e8c",
   "metadata": {},
   "source": [
    "In this notebook, Data Science Tools and Ecosystem are summarized."
   ]
  },
  {
   "cell_type": "markdown",
   "id": "81684f40-83d7-4ff1-9e59-bcb8a9e7bad3",
   "metadata": {},
   "source": [
    "**Objectives:**\n",
    "\n",
    "- List popular languages for Data Science  \n",
    "- Identify commonly used libraries  \n",
    "- Demonstrate use of arithmetic expressions  \n",
    "- Create tables using markdown  \n",
    "- Share work via GitHub  "
   ]
  },
  {
   "cell_type": "markdown",
   "id": "cfb347e1-1ead-461b-8026-23e928414226",
   "metadata": {},
   "source": [
    "Some of the popular languages that Data Scientists use are:\n",
    "\n",
    "1. Python  \n",
    "2. R  \n",
    "3. SQL  \n",
    "4. Julia"
   ]
  },
  {
   "cell_type": "markdown",
   "id": "d729c870-0934-4ee0-9be8-a6746db9ddfb",
   "metadata": {},
   "source": [
    "Some of the commonly used libraries used by Data Scientists include:\n",
    "\n",
    "1. Pandas  \n",
    "2. NumPy  \n",
    "3. Scikit-learn  \n",
    "4. TensorFlow"
   ]
  },
  {
   "cell_type": "markdown",
   "id": "8edb3605-5818-4208-b9ab-2dba48a7b8e2",
   "metadata": {},
   "source": [
    "| Data Science Tools |\n",
    "|--------------------|\n",
    "| Jupyter Notebook   |\n",
    "| RStudio            |\n",
    "| Apache Zeppelin    |"
   ]
  },
  {
   "cell_type": "markdown",
   "id": "918b8063-6e9a-4533-89ed-792ca44d1997",
   "metadata": {},
   "source": [
    "### Below are a few examples of evaluating arithmetic expressions in Python."
   ]
  },
  {
   "cell_type": "code",
   "execution_count": 1,
   "id": "f2ed7cc5-d027-4750-838f-bffaa922c2a3",
   "metadata": {},
   "outputs": [
    {
     "data": {
      "text/plain": [
       "17"
      ]
     },
     "execution_count": 1,
     "metadata": {},
     "output_type": "execute_result"
    }
   ],
   "source": [
    "# This a simple arithmetic expression to multiply then add integers\n",
    "(3 * 4) + 5"
   ]
  },
  {
   "cell_type": "code",
   "execution_count": 2,
   "id": "dce4a554-50a7-4346-a4a3-80b8fbc52db9",
   "metadata": {},
   "outputs": [
    {
     "data": {
      "text/plain": [
       "3.3333333333333335"
      ]
     },
     "execution_count": 2,
     "metadata": {},
     "output_type": "execute_result"
    }
   ],
   "source": [
    "# This will convert 200 minutes to hours by dividing by 60\n",
    "200 / 60"
   ]
  },
  {
   "cell_type": "markdown",
   "id": "f5520ca8-9b76-4bca-8d2f-0ba255c5a7cf",
   "metadata": {},
   "source": [
    "## Author\n",
    "\n",
    "Yahya Douimy"
   ]
  }
 ],
 "metadata": {
  "kernelspec": {
   "display_name": "Python [conda env:base] *",
   "language": "python",
   "name": "conda-base-py"
  },
  "language_info": {
   "codemirror_mode": {
    "name": "ipython",
    "version": 3
   },
   "file_extension": ".py",
   "mimetype": "text/x-python",
   "name": "python",
   "nbconvert_exporter": "python",
   "pygments_lexer": "ipython3",
   "version": "3.12.7"
  }
 },
 "nbformat": 4,
 "nbformat_minor": 5
}
